{
  "nbformat": 4,
  "nbformat_minor": 0,
  "metadata": {
    "colab": {
      "provenance": [],
      "authorship_tag": "ABX9TyPIzAfv3uWc3gPqD7ansmSh",
      "include_colab_link": true
    },
    "kernelspec": {
      "name": "python3",
      "display_name": "Python 3"
    },
    "language_info": {
      "name": "python"
    }
  },
  "cells": [
    {
      "cell_type": "markdown",
      "metadata": {
        "id": "view-in-github",
        "colab_type": "text"
      },
      "source": [
        "<a href=\"https://colab.research.google.com/github/Aditya5-tech/cpp/blob/main/iinteger_.ipynb\" target=\"_parent\"><img src=\"https://colab.research.google.com/assets/colab-badge.svg\" alt=\"Open In Colab\"/></a>"
      ]
    },
    {
      "cell_type": "code",
      "execution_count": null,
      "metadata": {
        "id": "9Ic6a6R8Gk5Z",
        "colab": {
          "base_uri": "https://localhost:8080/"
        },
        "outputId": "52fb28d4-1500-4a04-ef1a-6f854f5d3f83"
      },
      "outputs": [
        {
          "output_type": "stream",
          "name": "stdout",
          "text": [
            "Enter an float: 35\n",
            "You entered: 35.0\n"
          ]
        }
      ],
      "source": [
        "\n",
        "number = float(input(\"Enter an float: \"))\n",
        "\n",
        "print(\"You entered:\", number)\n"
      ]
    },
    {
      "cell_type": "code",
      "source": [],
      "metadata": {
        "id": "pyMAuoY2LOWb"
      },
      "execution_count": null,
      "outputs": []
    },
    {
      "cell_type": "code",
      "source": [
        "number=int(input(\"enter an integer:\"))\n",
        "print(\"you entered:\", number)"
      ],
      "metadata": {
        "id": "5QqI8bfkLRjb",
        "colab": {
          "base_uri": "https://localhost:8080/"
        },
        "outputId": "0f31f33b-7d13-4870-ab56-562494236dfa"
      },
      "execution_count": null,
      "outputs": [
        {
          "output_type": "stream",
          "name": "stdout",
          "text": [
            "enter an integer:556\n",
            "you entered: 556\n"
          ]
        }
      ]
    }
  ]
}